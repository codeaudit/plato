{
 "cells": [
  {
   "cell_type": "markdown",
   "metadata": {},
   "source": [
    "# BackProp Sampling Network\n",
    "\n",
    "This is a continuation of the [Sampling Neural Network](sampling_neural_network.ipynb) notebook.  We noted there that our training process was extremely inefficient.  \n",
    "\n",
    "Recall that we want to Gibbs-sample our weight values based on:\n",
    "$$\n",
    "W_{\\alpha} \\sim Categorical \\Big(softmax\\big(\\big[log(p(W_{\\alpha}=c_k))+\\sum_{n=1}^{N_{samples}}log(f(X_n,W_{w_{\\alpha}=c_k}))_{Y_n},k \\in 1..K\\big]\\big)\\Big)\n",
    "$$\n",
    "\n",
    "The problem was that we had to recompute the term \n",
    "$$\n",
    "g(x, w_{w_{\\alpha}=c_k}) \\equiv logL(Y|X,W) = \\sum_{n=1}^{N_{samples}}log(f(x_n,w_{w_{\\alpha}=c_k}))_{y_n}\n",
    "$$\n",
    ", which corresponds to a full forward pass over all data points, for every $\\alpha$ for every possible parameter value $c_k$ for every sampling pass through the parameters.\n",
    "\n",
    "Instead, we can make the same apporoximation as in BackPropagation - that is, $g(x, w)$ is locally linear in w.\n",
    "\n",
    "So \n",
    "$$\n",
    "g(x,w_{w_{\\alpha}=c_k}) \\simeq g(x, w) + \\frac{\\partial g(x, w)}{\\partial w_{\\alpha}} (c_k - w_\\alpha)\n",
    "$$\n",
    "\n",
    "Since we're doing a softmax on the result (over k), a constant shift (first term) does not matter, so we just compute:\n",
    "\n",
    "$$\n",
    "W_{\\alpha} \\sim Categorical \\Big(softmax\\big(\\big[log(p(W_{\\alpha}=c_k))+\\frac{\\partial g(x, w)}{\\partial w_{\\alpha}} (c_k - w_\\alpha),k \\in 1..K\\big]\\big)\\Big)\n",
    "$$\n"
   ]
  },
  {
   "cell_type": "code",
   "execution_count": 0,
   "metadata": {
    "collapsed": true
   },
   "outputs": [],
   "source": []
  }
 ],
 "metadata": {
  "kernelspec": {
   "display_name": "Python 2",
   "language": "python",
   "name": "python2"
  },
  "language_info": {
   "codemirror_mode": {
    "name": "ipython",
    "version": 2
   },
   "file_extension": ".py",
   "mimetype": "text/x-python",
   "name": "python",
   "nbconvert_exporter": "python",
   "pygments_lexer": "ipython2",
   "version": "2.7.6"
  }
 },
 "nbformat": 4,
 "nbformat_minor": 0
}