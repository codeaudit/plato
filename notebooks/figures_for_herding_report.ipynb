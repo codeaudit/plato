{
 "cells": [
  {
   "cell_type": "markdown",
   "metadata": {},
   "source": [
    "# Figures for Herding Report\n",
    "\n",
    "This script generates figures from the herded gibbs project.\n",
    "\n",
    "Links:\n",
    "- [Project Report](https://docs.google.com/document/d/1zBQdI-1tcEvqmizCuL2GX_ceqhLnOvGoN8ljciw9uGE/edit)\n",
    "- [Source code for figures](/edit/experimental/demo_binary_regression.py)\n",
    "- [Source code for samplers](/edit/experimental/plato/tools/sampling.py)"
   ]
  },
  {
   "cell_type": "code",
   "execution_count": 0,
   "metadata": {
    "collapsed": false
   },
   "outputs": [],
   "source": [
    "# Option 1: Recreate figure\n",
    "# Additional paramters will override the defaults for that figure\n",
    "from experimental.demo_binary_regression import demo_create_figure\n",
    "demo_create_figure(\n",
    "    '7D',\n",
    "    live_plot=False,\n",
    "    test_mode=False\n",
    ")"
   ]
  },
  {
   "cell_type": "code",
   "execution_count": 0,
   "metadata": {
    "collapsed": false
   },
   "outputs": [],
   "source": [
    "# Option 2: Specifiy paramters and create a figure\n",
    "from experimental.demo_binary_regression import demo_create_figure_from_commands\n",
    "demo_create_figure_from_commands(\n",
    "    dataset_name = 'crohns',  # {syn_log_reg, crohns, or mnist-ensemble}\n",
    "    max_training_samples = None,\n",
    "    max_test_samples = None,\n",
    "    predictors = ('gibbs-5choice', 'herded-5choice'),\n",
    "    w_range = (-1, 1),\n",
    "    n_steps = 10000,\n",
    "    evaluation_fcn = 'percent_argmax_correct',\n",
    "    live_plot = False,\n",
    "    test_mode = False,\n",
    "    )"
   ]
  },
  {
   "cell_type": "code",
   "execution_count": 0,
   "metadata": {
    "collapsed": true
   },
   "outputs": [],
   "source": [
    "# Option 3:\n",
    "# Go to experimental/demo_binary_regression.py to directly provide dataset/predictors, etc."
   ]
  }
 ],
 "metadata": {
  "kernelspec": {
   "display_name": "Python 2",
   "language": "python",
   "name": "python2"
  },
  "language_info": {
   "codemirror_mode": {
    "name": "ipython",
    "version": 2
   },
   "file_extension": ".py",
   "mimetype": "text/x-python",
   "name": "python",
   "nbconvert_exporter": "python",
   "pygments_lexer": "ipython2",
   "version": "2.7.6"
  }
 },
 "nbformat": 4,
 "nbformat_minor": 0
}