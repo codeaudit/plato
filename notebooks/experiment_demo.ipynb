{
 "cells": [
  {
   "cell_type": "code",
   "execution_count": 0,
   "metadata": {},
   "outputs": [],
   "source": [
    "from artemis.fileman.experiment_record import start_experiment\n",
    "from matplotlib import pyplot as plt\n",
    "import time\n",
    "\n",
    "exp_1 = start_experiment()\n",
    "\n",
    "start_time = time.time()\n",
    "times = []\n",
    "for _ in xrange(4):\n",
    "    elapsed_time = time.time() - start_time\n",
    "    times.append(elapsed_time)\n",
    "    print 'Elapsed Time: %ss' % (elapsed_time, )\n",
    "    time.sleep(0.1)\n",
    "plt.plot(times) \n",
    "plt.show()\n",
    "print 'Done!'"
   ]
  },
  {
   "cell_type": "code",
   "execution_count": 0,
   "metadata": {},
   "outputs": [],
   "source": [
    "exp_1.end_and_show()"
   ]
  },
  {
   "cell_type": "code",
   "execution_count": 0,
   "metadata": {},
   "outputs": [],
   "source": [
    ""
   ]
  }
 ],
 "metadata": {
  "kernelspec": {
   "display_name": "Python 2",
   "language": "python",
   "name": "python2"
  },
  "language_info": {
   "codemirror_mode": {
    "name": "ipython",
    "version": 2.0
   },
   "file_extension": ".py",
   "mimetype": "text/x-python",
   "name": "python",
   "nbconvert_exporter": "python",
   "pygments_lexer": "ipython2",
   "version": "2.7.6"
  }
 },
 "nbformat": 4,
 "nbformat_minor": 0
}