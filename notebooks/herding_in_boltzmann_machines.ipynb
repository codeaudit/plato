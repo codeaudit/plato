{
 "cells": [
  {
   "cell_type": "markdown",
   "metadata": {},
   "source": [
    "# Herding in Boltzmann Machines\n",
    "\n",
    "Here we compare the time it takes Gibbs sampling and Herded-Gibbs to converge to the stationary distribution in a Boltzmann Machine.  Results show that \n",
    "- Gibbs converges at a rate of 1/sqrt(t), while Herded-Gibbs initially converges at a rate of 1/t, but then stops due to its biased sampling.\n",
    "- Running Herding updates as a single block rather than per-unit causes the Herding algorithm to stop converging further from the stationary distribution than it otherwise would.\n",
    " \n",
    "This demo takes about 10 seconds to run for 1 million iterations.  To run the whole thing, click Cell>Run All.  The [*] on the left indicates that a cell is still executing."
   ]
  },
  {
   "cell_type": "code",
   "execution_count": 0,
   "metadata": {
    "collapsed": true
   },
   "outputs": [],
   "source": [
    "# Settings\n",
    "mag = 0.4          # Standard Deviation of weights\n",
    "w_power = 1.       # Weights are raised to this power (sign is preserved)\n",
    "n_steps = 1000000  # Number of iterations.  Note: Sequential (non-block) Gibbs does a complete round robin in EACH iteration.\n",
    "n_dims = 18        # Number of nodes in the Boltzmann Machine\n",
    "random_seed = None       "
   ]
  },
  {
   "cell_type": "markdown",
   "metadata": {},
   "source": [
    "##### Source Code \n",
    "- [experimental.boltzmann_sampling](/edit/experimental/boltzmann_sampling.py) \n",
    "- [general.math](/edit/general/math.py) "
   ]
  },
  {
   "cell_type": "code",
   "execution_count": 0,
   "metadata": {
    "collapsed": false
   },
   "outputs": [],
   "source": [
    "# Compute\n",
    "import numpy as np\n",
    "from experimental.boltzmann_sampling import gibbs_sample_boltzmann, herded_sample_boltzmann,     compute_exact_boltzmann_marginals, generate_boltzmann_parameters\n",
    "from general.math import cummean\n",
    "\n",
    "# Initialize Weights\n",
    "rng = np.random.RandomState(random_seed)\n",
    "weights, biases = generate_boltzmann_parameters(mag = mag, power = w_power, n_dims = n_dims, rng=rng)\n",
    "\n",
    "# Compute exact marginal probabilities\n",
    "exact_marginals = compute_exact_boltzmann_marginals(weights, biases)\n",
    "\n",
    "# Get the Gibbs Stats\n",
    "single_gibbs_records = gibbs_sample_boltzmann(weights, biases, n_steps, rng=rng, block = False)\n",
    "block_gibbs_records = gibbs_sample_boltzmann(weights, biases, n_steps, rng=rng, block = True)\n",
    "\n",
    "# Get the Herding Stats\n",
    "single_herded_records = herded_sample_boltzmann(weights, biases, n_steps, block = False)\n",
    "block_herded_records = herded_sample_boltzmann(weights, biases, n_steps, block = True)\n",
    "\n",
    "# Compute Error curves\n",
    "L1_error = lambda x, tar: np.mean(np.abs(x-tar), axis = 1)\n",
    "single_gibbs_error = L1_error(cummean(single_gibbs_records, axis = 0), exact_marginals)\n",
    "block_gibbs_error = L1_error(cummean(block_gibbs_records, axis = 0), exact_marginals)\n",
    "single_herded_error = L1_error(cummean(single_herded_records, axis = 0), exact_marginals)\n",
    "block_herded_error = L1_error(cummean(block_herded_records, axis = 0), exact_marginals)"
   ]
  },
  {
   "cell_type": "code",
   "execution_count": 0,
   "metadata": {
    "collapsed": false
   },
   "outputs": [],
   "source": [
    "# Plot\n",
    "from plotting.fast import fastloglog\n",
    "from matplotlib import pyplot as plt\n",
    "plt.figure()\n",
    "fastloglog(single_gibbs_error)\n",
    "fastloglog(block_gibbs_error)\n",
    "fastloglog(single_herded_error)\n",
    "fastloglog(block_herded_error)\n",
    "plt.loglog([1, n_steps], [1, n_steps**-1])\n",
    "plt.loglog([1, n_steps], [1, n_steps**-.5])\n",
    "plt.ylabel('Distance from exact distribution')\n",
    "plt.xlabel('Iterations')\n",
    "plt.legend(['Gibbs', 'Block-Gibbs', 'Herding', 'Block-Herding', '1/x', '1/sqrt(x)'], loc='best')\n",
    "plt.show()"
   ]
  },
  {
   "cell_type": "code",
   "execution_count": 0,
   "metadata": {
    "collapsed": true
   },
   "outputs": [],
   "source": []
  }
 ],
 "metadata": {
  "kernelspec": {
   "display_name": "Python 2",
   "language": "python",
   "name": "python2"
  },
  "language_info": {
   "codemirror_mode": {
    "name": "ipython",
    "version": 2
   },
   "file_extension": ".py",
   "mimetype": "text/x-python",
   "name": "python",
   "nbconvert_exporter": "python",
   "pygments_lexer": "ipython2",
   "version": "2.7.6"
  }
 },
 "nbformat": 4,
 "nbformat_minor": 0
}