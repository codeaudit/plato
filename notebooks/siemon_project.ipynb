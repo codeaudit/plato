{
 "metadata": {
  "name": "",
  "signature": "sha256:0c5ec89635cba537538506c8b1116e2ab20215fa7c62beff65a20ab792530902"
 },
 "nbformat": 3,
 "nbformat_minor": 0,
 "worksheets": [
  {
   "cells": [
    {
     "cell_type": "code",
     "collapsed": false,
     "input": [
      "import numpy as np\n",
      "import matplotlib.pyplot as plt\n",
      "from numpy import convolve\n",
      "plt.ion()"
     ],
     "language": "python",
     "metadata": {},
     "outputs": [],
     "prompt_number": 2
    },
    {
     "cell_type": "code",
     "collapsed": false,
     "input": [
      "# Setup Parameters\n",
      "n_time_steps = 1000\n",
      "kernel_len = 40\n",
      "n_filters = 10\n",
      "seed = None\n",
      "rng = np.random.RandomState(seed)\n",
      "t = np.arange(n_time_steps)\n",
      "data = np.sin(t/10.)+np.sin(t/(2*np.pi))  # Works much worse for t/7.!\n",
      "b = np.zeros(())\n",
      "c = np.zeros(n_filters)\n",
      "w = 0.01*np.random.randn(n_filters, kernel_len)\n",
      "w_L2_norm = 0.0003\n",
      "sigma = 1.\n",
      "sigma_lower_bound = 0.05\n",
      "n_gibbs = 1\n",
      "eta = 0.0005\n",
      "n_training_steps = 10000\n",
      "plot_every = 40\n",
      "print_every = 1000\n",
      "persistent = False\n",
      "h_sleep = None"
     ],
     "language": "python",
     "metadata": {},
     "outputs": [],
     "prompt_number": 3
    },
    {
     "cell_type": "code",
     "collapsed": false,
     "input": [
      "# Define Functions\n",
      "convup = lambda x, w: np.array([convolve(x, w_row, 'valid') for w_row in w])\n",
      "convdown = lambda x, w: np.sum([convolve(x_row, w_row[::-1], 'full') for x_row, w_row in zip(x, w)], axis = 0)\n",
      "sigmoid = lambda x: 1./(1+np.exp(-x))\n",
      "sample_gaussian = lambda mean, sigma: mean+np.random.randn(*mean.shape)*sigma\n",
      "sample_bernoulli = lambda x: x > rng.rand(*x.shape)\n",
      "propup = lambda x: sample_bernoulli(sigmoid(convup(x, w) + c[:, None]))\n",
      "propdown = lambda h: sample_gaussian(convdown(h, w) + b, sigma)\n",
      "compute_w_grad = lambda x, h: np.array([convolve(x, h_row[::-1], 'valid') for h_row in h])/n_time_steps\n",
      "compute_b_grad = lambda v: np.mean(v)\n",
      "compute_c_grad = lambda h: np.mean(h, axis = 1)\n",
      "compute_sigma_grad = lambda v, h: np.mean((v-b)**2 - 2*v*convdown(h, w))/ (sigma**3)"
     ],
     "language": "python",
     "metadata": {},
     "outputs": [],
     "prompt_number": 4
    },
    {
     "cell_type": "code",
     "collapsed": false,
     "input": [
      "# Train\n",
      "plt.figure()\n",
      "plt.subplot(3,1,1)\n",
      "plt.plot(data)\n",
      "recon_plot, = plt.plot(data)\n",
      "plt.subplot(3,1,2)\n",
      "hidden_plot = plt.imshow(propup(data), cmap = 'gray', interpolation = 'nearest', aspect = 10)\n",
      "plt.subplot(3,1,3)\n",
      "w_plot = plt.imshow(w, cmap = 'gray', interpolation = 'nearest')\n",
      "plt.colorbar()\n",
      "plt.show()\n",
      "\n",
      "print 'Training...'\n",
      "for i in xrange(n_training_steps):\n",
      "    v_wake = data\n",
      "    h_wake = propup(v_wake)\n",
      "    h_sleep = h_wake if (not persistent or h_sleep is None) else h_sleep\n",
      "    for _ in xrange(n_gibbs):\n",
      "        v_sleep = propdown(h_sleep)\n",
      "        h_sleep = propup(v_sleep)\n",
      "    w += eta*(compute_w_grad(v_wake, h_wake) - compute_w_grad(v_sleep, h_sleep)) - w_L2_norm*w\n",
      "    b += eta*(compute_b_grad(v_wake) - compute_b_grad(v_sleep))\n",
      "    c += eta*(compute_c_grad(h_wake) - compute_c_grad(h_sleep))\n",
      "    sigma += eta*(compute_sigma_grad(v_wake, h_wake) - compute_sigma_grad(v_sleep, h_sleep))\n",
      "    sigma = np.maximum(sigma, sigma_lower_bound)\n",
      "    if i%plot_every == 0:\n",
      "        recon_plot.set_ydata(convdown(h_sleep, w) + b)\n",
      "        hidden_plot.set_array(h_sleep)\n",
      "        w_plot.set_array(w)\n",
      "        plt.draw()\n",
      "    if i%print_every == 0:\n",
      "        print 'step: %s: w-mean: %.2g, w-std: %.2g, sigma: %.2g, b: %.2g, c_mean: %.2g, c_std: %.2g' %(i, np.mean(w), np.std(w), sigma, b, np.mean(c), np.std(c))\n",
      "print '...Done.'\n",
      "    "
     ],
     "language": "python",
     "metadata": {},
     "outputs": [
      {
       "output_type": "stream",
       "stream": "stdout",
       "text": [
        "Training...\n",
        "step: 0: w-mean: -0.00054, w-std: 0.0097, sigma: 1, b: 6.1e-05, c_mean: -7.2e-06, c_std: 1.4e-05"
       ]
      },
      {
       "output_type": "stream",
       "stream": "stdout",
       "text": [
        "\n",
        "step: 1000: w-mean: -5.6e-05, w-std: 0.0094, sigma: 0.99, b: 0.0057, c_mean: -0.00014, c_std: 0.00034"
       ]
      },
      {
       "output_type": "stream",
       "stream": "stdout",
       "text": [
        "\n",
        "step: 2000: w-mean: -9.2e-05, w-std: 0.02, sigma: 0.8, b: 0.012, c_mean: -6e-05, c_std: 0.00035"
       ]
      },
      {
       "output_type": "stream",
       "stream": "stdout",
       "text": [
        "\n",
        "step: 3000: w-mean: -8.5e-05, w-std: 0.026, sigma: 0.29, b: 0.019, c_mean: -0.00035, c_std: 0.00055"
       ]
      },
      {
       "output_type": "stream",
       "stream": "stdout",
       "text": [
        "\n",
        "step: 4000: w-mean: -9.9e-05, w-std: 0.026, sigma: 0.34, b: 0.024, c_mean: -0.00058, c_std: 0.00081"
       ]
      },
      {
       "output_type": "stream",
       "stream": "stdout",
       "text": [
        "\n",
        "step: 5000: w-mean: -0.00016, w-std: 0.026, sigma: 0.21, b: 0.029, c_mean: -0.0014, c_std: 0.0012"
       ]
      },
      {
       "output_type": "stream",
       "stream": "stdout",
       "text": [
        "\n",
        "step: 6000: w-mean: -0.00015, w-std: 0.025, sigma: 0.13, b: 0.033, c_mean: -0.002, c_std: 0.0014"
       ]
      },
      {
       "output_type": "stream",
       "stream": "stdout",
       "text": [
        "\n",
        "step: 7000: w-mean: -0.00016, w-std: 0.025, sigma: 0.31, b: 0.038, c_mean: -0.0028, c_std: 0.0017"
       ]
      },
      {
       "output_type": "stream",
       "stream": "stdout",
       "text": [
        "\n",
        "step: 8000: w-mean: -0.00023, w-std: 0.025, sigma: 0.05, b: 0.042, c_mean: -0.0034, c_std: 0.0017"
       ]
      },
      {
       "output_type": "stream",
       "stream": "stdout",
       "text": [
        "\n",
        "step: 9000: w-mean: -0.00023, w-std: 0.025, sigma: 0.2, b: 0.046, c_mean: -0.0042, c_std: 0.0017"
       ]
      },
      {
       "output_type": "stream",
       "stream": "stdout",
       "text": [
        "\n",
        "...Done."
       ]
      },
      {
       "output_type": "stream",
       "stream": "stdout",
       "text": [
        "\n"
       ]
      }
     ],
     "prompt_number": 5
    },
    {
     "cell_type": "code",
     "collapsed": false,
     "input": [
      "# Free-sampling\n",
      "plt.figure()\n",
      "n_steps = 1000\n",
      "visible_noiseless_sample = visible_sample = np.random.randn(*data.shape)\n",
      "free_sampling_plot, = plt.plot(visible_noiseless_sample)\n",
      "for _ in xrange(n_steps):\n",
      "    hidden_sample = propup(visible_sample)\n",
      "    visible_noiseless_sample = convdown(hidden_sample, w) + b\n",
      "    visible_sample = sample_gaussian(visible_noiseless_sample, sigma)\n",
      "    \n",
      "    free_sampling_plot.set_ydata(visible_noiseless_sample)\n",
      "    plt.draw()\n"
     ],
     "language": "python",
     "metadata": {},
     "outputs": []
    },
    {
     "cell_type": "code",
     "collapsed": false,
     "input": [],
     "language": "python",
     "metadata": {},
     "outputs": []
    }
   ],
   "metadata": {}
  }
 ]
}