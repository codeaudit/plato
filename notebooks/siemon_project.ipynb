{
 "cells": [
  {
   "cell_type": "code",
   "execution_count": 0,
   "metadata": {
    "collapsed": false
   },
   "outputs": [],
   "source": [
    "import numpy as np\n",
    "import matplotlib\n",
    "import matplotlib.pyplot as plt\n",
    "from numpy import convolve\n",
    "from IPython import display\n",
    "plt.ion()\n",
    "def redraw(figure):\n",
    "    if 'inline' in matplotlib.get_backend():\n",
    "        display.clear_output(wait=True)\n",
    "        display.display(figure)\n",
    "    else:\n",
    "        plt.draw()"
   ]
  },
  {
   "cell_type": "code",
   "execution_count": 0,
   "metadata": {
    "collapsed": false
   },
   "outputs": [],
   "source": [
    "# Set Parameters\n",
    "n_time_steps = 1000\n",
    "kernel_len = 40\n",
    "n_filters = 10\n",
    "waveform_data = 'sinusoid'\n",
    "w_init_mag = 0.01\n",
    "w_L2_norm = 0.0003\n",
    "sigma = 1.\n",
    "sigma_lower_bound = 0.05\n",
    "n_gibbs = 1\n",
    "eta = 0.0005\n",
    "n_training_steps = 5000\n",
    "plot_every = 40\n",
    "print_every = 1000\n",
    "persistent = True\n",
    "seed = None"
   ]
  },
  {
   "cell_type": "code",
   "execution_count": 0,
   "metadata": {
    "collapsed": false
   },
   "outputs": [],
   "source": [
    "# Create data\n",
    "rng = np.random.RandomState(seed)\n",
    "t = np.arange(n_time_steps)\n",
    "data = {\n",
    "    'sinusoid': lambda: np.sin(t/10.)+np.sin(t/(2*np.pi)),\n",
    "    'sawtooth': lambda: (t/10.)%10 + (t/7.)%7-1\n",
    "}[waveform_data]()"
   ]
  },
  {
   "cell_type": "code",
   "execution_count": 0,
   "metadata": {
    "collapsed": false
   },
   "outputs": [],
   "source": [
    "# Define Functions\n",
    "convup = lambda x, w: np.array([convolve(x, w_row, 'valid') for w_row in w])\n",
    "convdown = lambda x, w: np.sum([convolve(x_row, w_row[::-1], 'full') for x_row, w_row in zip(x, w)], axis = 0)\n",
    "sigmoid = lambda x: 1./(1+np.exp(-x))\n",
    "sample_gaussian = lambda mean, sigma: mean+np.random.randn(*mean.shape)*sigma\n",
    "sample_bernoulli = lambda x: x > rng.rand(*x.shape)\n",
    "propup = lambda x: sample_bernoulli(sigmoid(convup(x, w) + c[:, None]))\n",
    "propdown = lambda h: sample_gaussian(convdown(h, w) + b, sigma)\n",
    "compute_w_grad = lambda x, h: np.array([convolve(x, h_row[::-1], 'valid') for h_row in h])/n_time_steps\n",
    "compute_b_grad = lambda v: np.mean(v)\n",
    "compute_c_grad = lambda h: np.mean(h, axis = 1)\n",
    "compute_sigma_grad = lambda v, h: np.mean((v-b)**2 - 2*v*convdown(h, w))/ (sigma**3)\n",
    "get_state_string = lambda: 'step: %s: w-mean: %.2g, w-std: %.2g, sigma: %.2g, b: %.2g, c_mean: %.2g, c_std: %.2g' %(i, np.mean(w), np.std(w), sigma, b, np.mean(c), np.std(c))"
   ]
  },
  {
   "cell_type": "code",
   "execution_count": 0,
   "metadata": {
    "collapsed": false
   },
   "outputs": [],
   "source": [
    "# Train\n",
    "b = np.zeros(())\n",
    "c = np.zeros(n_filters)\n",
    "w = w_init_mag*np.random.randn(n_filters, kernel_len)\n",
    "\n",
    "training_fig = plt.figure()\n",
    "plt.subplot(3,1,1)\n",
    "plt.plot(data)\n",
    "recon_plot, = plt.plot(data)\n",
    "plt.subplot(3,1,2)\n",
    "hidden_plot = plt.imshow(propup(data), cmap = 'gray', interpolation = 'nearest', aspect = 10)\n",
    "plt.subplot(3,1,3)\n",
    "w_plot = plt.imshow(w, cmap = 'gray', interpolation = 'nearest')\n",
    "plt.colorbar()\n",
    "plt.show()\n",
    "\n",
    "print 'Training...'\n",
    "h_sleep = None\n",
    "for i in xrange(n_training_steps):\n",
    "    v_wake = data\n",
    "    h_wake = propup(v_wake)\n",
    "    h_sleep = h_wake if (not persistent or h_sleep is None) else h_sleep\n",
    "    for _ in xrange(n_gibbs):\n",
    "        v_sleep = propdown(h_sleep)\n",
    "        h_sleep = propup(v_sleep)\n",
    "    w += eta*(compute_w_grad(v_wake, h_wake) - compute_w_grad(v_sleep, h_sleep)) - w_L2_norm*w\n",
    "    b += eta*(compute_b_grad(v_wake) - compute_b_grad(v_sleep))\n",
    "    c += eta*(compute_c_grad(h_wake) - compute_c_grad(h_sleep))\n",
    "    sigma += eta*(compute_sigma_grad(v_wake, h_wake) - compute_sigma_grad(v_sleep, h_sleep))\n",
    "    sigma = np.maximum(sigma, sigma_lower_bound)\n",
    "    if i%plot_every == 0:\n",
    "        print get_state_string()\n",
    "        recon_plot.set_ydata(convdown(h_sleep, w) + b)\n",
    "        hidden_plot.set_array(h_sleep)\n",
    "        w_plot.set_array(w)\n",
    "        redraw(training_fig)\n",
    "print '...Done.'"
   ]
  },
  {
   "cell_type": "code",
   "execution_count": 0,
   "metadata": {
    "collapsed": false
   },
   "outputs": [],
   "source": [
    "# Free-sampling\n",
    "free_sampling_fig = plt.figure()\n",
    "n_steps = 1000\n",
    "visible_noiseless_sample = visible_sample = np.random.randn(*data.shape)\n",
    "free_sampling_plot, = plt.plot(visible_noiseless_sample)\n",
    "free_sampling_fig.show()\n",
    "for _ in xrange(n_steps):\n",
    "    hidden_sample = propup(visible_sample)\n",
    "    visible_noiseless_sample = convdown(hidden_sample, w) + b\n",
    "    visible_sample = sample_gaussian(visible_noiseless_sample, sigma)\n",
    "    free_sampling_plot.set_ydata(visible_noiseless_sample)\n",
    "    redraw(free_sampling_fig)"
   ]
  },
  {
   "cell_type": "code",
   "execution_count": 0,
   "metadata": {
    "collapsed": false
   },
   "outputs": [],
   "source": []
  }
 ],
 "metadata": {
  "kernelspec": {
   "display_name": "Python 2",
   "language": "python",
   "name": "python2"
  },
  "language_info": {
   "codemirror_mode": {
    "name": "ipython",
    "version": 2
   },
   "file_extension": ".py",
   "mimetype": "text/x-python",
   "name": "python",
   "nbconvert_exporter": "python",
   "pygments_lexer": "ipython2",
   "version": "2.7.6"
  }
 },
 "nbformat": 4,
 "nbformat_minor": 0
}