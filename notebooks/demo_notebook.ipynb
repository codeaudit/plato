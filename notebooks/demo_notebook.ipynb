{
 "cells": [
  {
   "cell_type": "markdown",
   "metadata": {},
   "source": [
    "# Demo Notebook\n",
    "This is a demo showing how you can make a simple plot.  If it's not making a plot, you're probably not running with matplotlib inline - either add `%matplotlib inline` to this file, or `c.IPKernelApp.matplotlib = 'inline'` to your configuration file.\n",
    "\n"
   ]
  },
  {
   "cell_type": "code",
   "execution_count": 0,
   "metadata": {
    "collapsed": true
   },
   "outputs": [],
   "source": [
    "# Make Data\n",
    "import numpy as np\n",
    "x = np.linspace(0, 4, 200)\n",
    "y = -(x-4)*(x+1)"
   ]
  },
  {
   "cell_type": "code",
   "execution_count": 0,
   "metadata": {
    "collapsed": false
   },
   "outputs": [],
   "source": [
    "# Plot\n",
    "from fileman.notebook_plots import always_link_figures\n",
    "import matplotlib.pyplot as plt\n",
    "always_link_figures(True, name = '%T-Productivity')\n",
    "plt.plot(x, y)\n",
    "plt.xlabel('Years Spend Making Productivity Tools')\n",
    "plt.ylabel('Productivity')\n",
    "plt.show()"
   ]
  },
  {
   "cell_type": "code",
   "execution_count": 0,
   "metadata": {
    "collapsed": true
   },
   "outputs": [],
   "source": []
  }
 ],
 "metadata": {
  "kernelspec": {
   "display_name": "Python 2",
   "language": "python",
   "name": "python2"
  },
  "language_info": {
   "codemirror_mode": {
    "name": "ipython",
    "version": 2
   },
   "file_extension": ".py",
   "mimetype": "text/x-python",
   "name": "python",
   "nbconvert_exporter": "python",
   "pygments_lexer": "ipython2",
   "version": "2.7.6"
  }
 },
 "nbformat": 4,
 "nbformat_minor": 0
}