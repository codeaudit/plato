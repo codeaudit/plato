{
 "cells": [
  {
   "cell_type": "markdown",
   "metadata": {},
   "source": [
    "# Plato Tutorial\n",
    "\n",
    "Plato is a package made with two objectives.\n",
    "\n",
    "1) Simplify the use of Theano.  \n",
    "2) Provide a good libary of standard Deep Learning algorithms."
   ]
  },
  {
   "cell_type": "markdown",
   "metadata": {},
   "source": [
    "## 1. Symbolic functions.\n",
    "\n",
    "In Plato, we have the concept of *symbolic functions*, which are function that take and return theano symbolic variables.  These functions can be compiled to *numeric functions* which take and return numpy arrays and python ints/floats."
   ]
  },
  {
   "cell_type": "code",
   "execution_count": 6,
   "metadata": {
    "collapsed": false
   },
   "outputs": [
    {
     "name": "stdout",
     "output_type": "stream",
     "text": [
      "3+4=7\n"
     ]
    }
   ],
   "source": [
    "from plato.core import symbolic\n",
    "\n",
    "@symbolic\n",
    "def add_two_numbers(x, y):\n",
    "    return x+y\n",
    "\n",
    "f = add_two_numbers.compile()\n",
    "print '3+4=%s' % f(3, 4)"
   ]
  },
  {
   "cell_type": "markdown",
   "metadata": {},
   "source": [
    "## 2. Adding State\n",
    "\n",
    "We are also able to create stateful functions.  In the below example, Plato recognises that the return value is in the format `output, [(shared_variable, shared_variable_update)]`, so it creates a stateful function when it compiles."
   ]
  },
  {
   "cell_type": "code",
   "execution_count": 12,
   "metadata": {
    "collapsed": false
   },
   "outputs": [
    {
     "name": "stdout",
     "output_type": "stream",
     "text": [
      "I can count to ten.  See: [1, 2, 3, 4, 5, 6, 7, 8, 9, 10]\n",
      "I can too: [1, 2, 3, 4, 5, 6, 7, 8, 9, 10]\n"
     ]
    }
   ],
   "source": [
    "import theano\n",
    "\n",
    "@symbolic\n",
    "def counter(start_value = 1):\n",
    "    counter = theano.shared(start_value)\n",
    "    return counter, [(counter, counter+1)]\n",
    "\n",
    "f = counter.compile()\n",
    "print 'I can count to ten.  See: %s' % ([int(f()) for _ in xrange(10)])\n",
    "\n",
    "# Note that we start from scratch when we compile the function a new time.\n",
    "f2 = counter.compile()\n",
    "print 'I can too: %s' % ([int(f2()) for _ in xrange(10)])\n"
   ]
  },
  {
   "cell_type": "markdown",
   "metadata": {},
   "source": [
    "# 3. Classes: Multiple functions sharing a variable.\n",
    "\n",
    "We often have situations where we have a variable that is shared between two functions (e.g. in a classifier, the weights may be modified by the *train* function and updated by the *predict* function).  We usually deal with this using classes.  As a simple example, lets take the [Collatz Conjecture](https://en.wikipedia.org/wiki/Collatz_conjecture).  "
   ]
  },
  {
   "cell_type": "code",
   "execution_count": 28,
   "metadata": {
    "collapsed": false
   },
   "outputs": [
    {
     "name": "stdout",
     "output_type": "stream",
     "text": [
      "Demonstrate collatz conjecture for initial value of 20\n",
      "10\n",
      "5\n",
      "16\n",
      "8\n",
      "4\n",
      "2\n",
      "1\n",
      "Note that since the value is attached to the class, it persists if functons are recompiled.\n",
      "4\n",
      "2\n",
      "1\n",
      "4\n",
      "2\n",
      "1\n"
     ]
    }
   ],
   "source": [
    "class Collatz:\n",
    "\n",
    "    def __init__(self, initial_value):\n",
    "        self.value = theano.shared(initial_value)\n",
    "        \n",
    "    @symbolic\n",
    "    def divide_by_2(self):\n",
    "        new_value = self.value/2\n",
    "        return new_value, [(self.value, new_value)]\n",
    "    \n",
    "    @symbolic\n",
    "    def multiply_by_3_and_add_one(self):\n",
    "        new_value = self.value*3+1\n",
    "        return new_value, [(self.value, new_value)]\n",
    "    \n",
    "c = Collatz(20)\n",
    "div_fcn = c.divide_by_2.compile()\n",
    "mul_fcn = c.multiply_by_3_and_add_one.compile()\n",
    "\n",
    "value = c.value.get_value()\n",
    "print 'Demonstrate collatz conjecture for initial value of %s' % c.value.get_value()\n",
    "\n",
    "while value != 1:\n",
    "    value = div_fcn() if value % 2 == 0 else mul_fcn()\n",
    "    print value\n",
    "\n",
    "print 'Note that since the value is attached to the class, it persists if functons are recompiled.'\n",
    "new_div_fcn = c.divide_by_2.compile()\n",
    "new_mul_fcn = c.multiply_by_3_and_add_one.compile()\n",
    "for _ in xrange(6):\n",
    "    value = new_div_fcn() if value % 2 == 0 else new_mul_fcn()\n",
    "    print value"
   ]
  },
  {
   "cell_type": "markdown",
   "metadata": {},
   "source": [
    "## 3. Debugging\n",
    "\n",
    "A big advantage of plato is easier debugging.  There are two ways in which Plato helps you debug.\n",
    "\n",
    "### 3A: Test values\n",
    "\n",
    "Theano allows you to add \"test-values\" to your symbolic variables ([see tutorial](http://deeplearning.net/software/theano/tutorial/debug_faq.html)).  This helps to catch shape-errors at compile-time instead of run-time.  However, it can be a bit of extra work for the programmer.  Fortunately, since Plato compiles your functions on the first pass, it can attach test-values \"under the hood\".\n",
    "\n",
    "For example, lets look at a matrix multiplication, where we accidently get the shapes of our matrices wrong.  Since all inputs are given test values, we can easily track down the error - the traceback will lead back to the correct line.  This would not have been possible without test values, because the error would occur in the compiled code, which is no-longer linked to the source code."
   ]
  },
  {
   "cell_type": "code",
   "execution_count": 34,
   "metadata": {
    "collapsed": false
   },
   "outputs": [
    {
     "name": "stdout",
     "output_type": "stream",
     "text": [
      "x-shape: (5, 4)\n",
      "w-shape: (3, 4)\n",
      "ValueError: shapes (5,4) and (3,4) not aligned: 4 (dim 1) != 3 (dim 0)\n"
     ]
    }
   ],
   "source": [
    "import numpy as np\n",
    "\n",
    "@symbolic\n",
    "def forward_pass(x, w):\n",
    "    print 'x-shape: %s' % (x.tag.test_value.shape, )\n",
    "    print 'w-shape: %s' % (w.tag.test_value.shape, )\n",
    "    return x.dot(w)\n",
    "\n",
    "f = forward_pass.compile()\n",
    "\n",
    "try:\n",
    "    h = f(np.random.randn(5, 4), np.random.rand(3, 4))  # Will cause an error (because second argument should be (4, 3))\n",
    "except ValueError as err:\n",
    "    print '%s: %s' % (err.__class__.__name__, err.message)\n"
   ]
  },
  {
   "cell_type": "markdown",
   "metadata": {},
   "source": [
    "### 3B: Variable Traces\n",
    "\n",
    "It can also be useful to print/plot traces of intermediate values.  Ordinarily in theano, this would require setting those variables as outputs, and possibly significantly restructuring code to peek at what would normally be an internal variables.  Plato does a bit of magic which allows you to tr"
   ]
  }
 ],
 "metadata": {
  "kernelspec": {
   "display_name": "Python 2",
   "language": "python",
   "name": "python2"
  },
  "language_info": {
   "codemirror_mode": {
    "name": "ipython",
    "version": 2
   },
   "file_extension": ".py",
   "mimetype": "text/x-python",
   "name": "python",
   "nbconvert_exporter": "python",
   "pygments_lexer": "ipython2",
   "version": "2.7.6"
  }
 },
 "nbformat": 4,
 "nbformat_minor": 0
}
