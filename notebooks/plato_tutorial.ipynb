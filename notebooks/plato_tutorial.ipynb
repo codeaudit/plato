{
 "cells": [
  {
   "cell_type": "markdown",
   "metadata": {},
   "source": [
    "# Plato Tutorial\n",
    "\n",
    "Plato is a package made with two objectives.\n",
    "\n",
    "1) Simplify the use of Theano.  \n",
    "2) Provide a good libary of standard Deep Learning algorithms.\n",
    "\n",
    "This tutorial demonstrates point 1.  It's useful but not necessary to have a basic knowledge of theano to do this tutorial."
   ]
  },
  {
   "cell_type": "markdown",
   "metadata": {},
   "source": [
    "## 1. Symbolic functions.\n",
    "\n",
    "In Plato, we have the concept of *symbolic functions*, which are function that take and return theano symbolic variables.  These functions can be compiled to *numeric functions* which take and return numpy arrays and python ints/floats."
   ]
  },
  {
   "cell_type": "code",
   "execution_count": 1,
   "metadata": {
    "collapsed": false
   },
   "outputs": [
    {
     "name": "stdout",
     "output_type": "stream",
     "text": [
      "3+4=7\n"
     ]
    }
   ],
   "source": [
    "from plato.core import symbolic\n",
    "\n",
    "@symbolic\n",
    "def add_two_numbers(x, y):\n",
    "    return x+y\n",
    "\n",
    "f = add_two_numbers.compile()\n",
    "print '3+4=%s' % f(3, 4)"
   ]
  },
  {
   "cell_type": "markdown",
   "metadata": {},
   "source": [
    "Internally, here is what happens: On the first (and in this case, only) call to add_two_numbers, Plato gets the inputs (3, 4), looks at their type (both scalar integers in this case), and compiles a symbolic expression that adds them together.  The equivalent code using just theano would be:"
   ]
  },
  {
   "cell_type": "code",
   "execution_count": 1,
   "metadata": {
    "collapsed": false
   },
   "outputs": [
    {
     "name": "stdout",
     "output_type": "stream",
     "text": [
      "3+4=7\n"
     ]
    }
   ],
   "source": [
    "import theano\n",
    "from theano.tensor import scalar\n",
    "\n",
    "x = scalar(dtype = 'int32')\n",
    "y = scalar(dtype = 'int32')\n",
    "z = x+y\n",
    "\n",
    "f = theano.function(inputs = [x, y], outputs = z)\n",
    "print '3+4=%s' % f(3, 4)\n"
   ]
  },
  {
   "cell_type": "markdown",
   "metadata": {},
   "source": [
    "## 2. Adding State\n",
    "\n",
    "We are also able to create stateful functions.  In the below example, Plato recognises that the return value is in the format `output, [(shared_variable, shared_variable_update)]`, so it creates a stateful function when it compiles."
   ]
  },
  {
   "cell_type": "code",
   "execution_count": 2,
   "metadata": {
    "collapsed": false
   },
   "outputs": [
    {
     "name": "stdout",
     "output_type": "stream",
     "text": [
      "I can count to ten.  See: [1, 2, 3, 4, 5, 6, 7, 8, 9, 10]\n",
      "I can too: [1, 2, 3, 4, 5, 6, 7, 8, 9, 10]\n"
     ]
    }
   ],
   "source": [
    "import theano\n",
    "from plato.core import symbolic\n",
    "\n",
    "@symbolic\n",
    "def counter(start_value = 1):\n",
    "    counter = theano.shared(start_value)\n",
    "    return counter, [(counter, counter+1)]\n",
    "\n",
    "f = counter.compile()\n",
    "print 'I can count to ten.  See: %s' % ([int(f()) for _ in xrange(10)])\n",
    "\n",
    "# Note that we start from scratch when we compile the function a new time, \n",
    "# because the shared variable is initialized within the function call\n",
    "f2 = counter.compile()\n",
    "print 'I can too: %s' % ([int(f2()) for _ in xrange(10)])\n"
   ]
  },
  {
   "cell_type": "markdown",
   "metadata": {},
   "source": [
    "# 3. Classes: Multiple functions sharing a variable.\n",
    "\n",
    "We often have situations where we have a variable that is shared between two functions (e.g. in a classifier, the weights may be modified by the *train* function and used by the *predict* function).  We usually deal with this using classes.  As a simple example, lets take the [Collatz Conjecture](https://en.wikipedia.org/wiki/Collatz_conjecture).  "
   ]
  },
  {
   "cell_type": "code",
   "execution_count": 3,
   "metadata": {
    "collapsed": false
   },
   "outputs": [
    {
     "name": "stdout",
     "output_type": "stream",
     "text": [
      "Demonstrate collatz conjecture for initial value of 20\n",
      "10\n",
      "5\n",
      "16\n",
      "8\n",
      "4\n",
      "2\n",
      "1\n",
      "Note that since the value is attached to the class, it persists if functons are recompiled.\n",
      "4\n",
      "2\n",
      "1\n",
      "4\n",
      "2\n",
      "1\n"
     ]
    }
   ],
   "source": [
    "class Collatz:\n",
    "\n",
    "    def __init__(self, initial_value):\n",
    "        self.value = theano.shared(initial_value)\n",
    "        \n",
    "    @symbolic\n",
    "    def divide_by_2(self):\n",
    "        new_value = self.value/2\n",
    "        return new_value, [(self.value, new_value)]\n",
    "    \n",
    "    @symbolic\n",
    "    def multiply_by_3_and_add_one(self):\n",
    "        new_value = self.value*3+1\n",
    "        return new_value, [(self.value, new_value)]\n",
    "    \n",
    "c = Collatz(20)\n",
    "div_fcn = c.divide_by_2.compile()\n",
    "mul_fcn = c.multiply_by_3_and_add_one.compile()\n",
    "\n",
    "value = c.value.get_value()\n",
    "print 'Demonstrate Collatz conjecture for initial value of %s' % c.value.get_value()\n",
    "\n",
    "while value != 1:\n",
    "    value = div_fcn() if value % 2 == 0 else mul_fcn()\n",
    "    print value\n",
    "\n",
    "print 'Note that since the value is attached to the class, it persists if functons are recompiled.'\n",
    "new_div_fcn = c.divide_by_2.compile()\n",
    "new_mul_fcn = c.multiply_by_3_and_add_one.compile()\n",
    "for _ in xrange(6):\n",
    "    value = new_div_fcn() if value % 2 == 0 else new_mul_fcn()\n",
    "    print value"
   ]
  },
  {
   "cell_type": "markdown",
   "metadata": {},
   "source": [
    "## 3. Callable Classes\n",
    "\n",
    "In python, classes can also act as functions, if they implement a `__call__` method.  This can be useful when you want to make parameterized functions.  Therefore Plato also allows you to decorate callable classes.  For example:"
   ]
  },
  {
   "cell_type": "code",
   "execution_count": 3,
   "metadata": {
    "collapsed": false
   },
   "outputs": [
    {
     "name": "stdout",
     "output_type": "stream",
     "text": [
      "3*4=12\n"
     ]
    }
   ],
   "source": [
    "from plato.core import symbolic\n",
    "\n",
    "@symbolic\n",
    "class MultiplyBySomething:\n",
    "    \n",
    "    def __init__(self, what):\n",
    "        self.what = what\n",
    "        \n",
    "    def __call__(self, x):\n",
    "        return x*self.what\n",
    "    \n",
    "f = MultiplyBySomething(3).compile()\n",
    "\n",
    "print '3*4=%s' % f(4)"
   ]
  },
  {
   "cell_type": "markdown",
   "metadata": {},
   "source": [
    "## 4. Debugging\n",
    "\n",
    "A big advantage of Plato is easier debugging.  There are two ways in which Plato helps you debug.\n",
    "\n",
    "### 4A: Test values\n",
    "\n",
    "Theano allows you to add \"test-values\" to your symbolic variables ([see tutorial](http://deeplearning.net/software/theano/tutorial/debug_faq.html)).  This helps to catch shape-errors at compile-time instead of run-time, where it is difficult to find the line of code that caused them.  However, it can be a bit of extra work for the programmer, because they have to manually attach test values to their variables.  Fortunately, since Plato compiles your functions on the first pass, it can attach test-values \"under the hood\".\n",
    "\n",
    "For example, lets look at a matrix multiplication, where we accidently get the shapes of our matrices wrong.  Since all inputs are given test values, we can easily track down the error - the traceback will lead back to the correct line.  This would not have been possible without test values, because the error would occur in the compiled code, which is no-longer linked to the source code."
   ]
  },
  {
   "cell_type": "code",
   "execution_count": 2,
   "metadata": {
    "collapsed": false
   },
   "outputs": [
    {
     "name": "stdout",
     "output_type": "stream",
     "text": [
      "x-shape: (5, 4)\n",
      "w-shape: (3, 4)\n",
      "ValueError: shapes (5,4) and (3,4) not aligned: 4 (dim 1) != 3 (dim 0)\n"
     ]
    }
   ],
   "source": [
    "import numpy as np\n",
    "from plato.core import symbolic\n",
    "\n",
    "\n",
    "@symbolic\n",
    "def forward_pass(x, w):\n",
    "    print 'x-shape: %s' % (x.tag.test_value.shape, )\n",
    "    print 'w-shape: %s' % (w.tag.test_value.shape, )\n",
    "    # Note that the above test-values only display on the first iteration.\n",
    "    return x.dot(w)\n",
    "\n",
    "f = forward_pass.compile()\n",
    "\n",
    "try:\n",
    "    # The following will cause an error (because second argument should have shape (4, 3))\n",
    "    h = f(np.random.randn(5, 4), np.random.rand(3, 4))  \n",
    "except ValueError as err:\n",
    "    # If you do not catch the error, you get a stacktrace which points to the line at fault.\n",
    "    print '%s: %s' % (err.__class__.__name__, err.message)\n"
   ]
  },
  {
   "cell_type": "markdown",
   "metadata": {},
   "source": [
    "### 4B: Variable Traces\n",
    "\n",
    "It can also be useful to print/plot traces of intermediate values.  Ordinarily in theano, this would require setting those variables as outputs, and restructuring code to peek at what would normally be an internal variables.  Plato does a bit of magic which allows you to print/plot/do anything with internal variables.  The following example illustrates this: "
   ]
  },
  {
   "cell_type": "code",
   "execution_count": 5,
   "metadata": {
    "collapsed": false
   },
   "outputs": [
    {
     "name": "stdout",
     "output_type": "stream",
     "text": [
      "Pre-Sigmoid Activation: [[-2.36296192 -0.45285114  0.94697635]]\n",
      "Post Sigmoid Activation: [[ 0.08604099  0.3886831   0.72050669]]\n"
     ]
    }
   ],
   "source": [
    "import numpy as np\n",
    "from plato.core import symbolic, tdbprint\n",
    "import theano.tensor as tt\n",
    "import theano\n",
    "\n",
    "class Layer:\n",
    "    \n",
    "    def __init__(self, w):\n",
    "        self.w = theano.shared(w)\n",
    "        \n",
    "    @symbolic\n",
    "    def forward_pass(self, x):\n",
    "        pre_sigmoid = x.dot(self.w)\n",
    "        tdbprint(pre_sigmoid, name = 'Pre-Sigmoid Activation')\n",
    "        y = tt.nnet.sigmoid(pre_sigmoid)\n",
    "        return y\n",
    "    \n",
    "n_samples = 1\n",
    "n_in = 4\n",
    "n_out = 3\n",
    "    \n",
    "layer = Layer(np.random.randn(n_in, n_out))\n",
    "fwd_fcn = layer.forward_pass.compile()\n",
    "y = fwd_fcn(np.random.randn(n_samples, n_in))\n",
    "print 'Post Sigmoid Activation: %s' % (y)"
   ]
  },
  {
   "cell_type": "markdown",
   "metadata": {},
   "source": [
    "## 5. Enforcing Interfaces\n",
    "\n",
    "In larger programs, it can be useful to enforce interfaces - that is, functions are required to obey a certain contract.  This allows function A to use function B without knowing in particular which function it is.  For instance, you may have some code that iterates through a dataset and trains a predictor, but doesn't necessarily know what kind of predictor it is - just that it has a *train* function that accepts inputs and targets, and returns updates.\n",
    "\n",
    "For this reason, we have an extended set of decorators which enforce type-checking on inputs/outputs.  Currently all these decorators just specfy outputs, but this can easily be extended to to type-checking for inputs too.\n",
    "\n",
    "`symbolic_stateless` - Returns a single output variable.  \n",
    "`symbolic_updater` - Returns a list of variable updates: [(shared_var_0, new_val_0), (shared_var_1, new_val_1), ...]  \n",
    "`symbolic_standard` - Returns a tuple of outputs and a list of updates.  ((out_0, ...), [(shared_var_0, new_val_0), ...])  \n",
    "\n",
    "If you decorate with these, you get a `SymbolicFormatError` when your inputs/outputs are not in the expected format.  For example:"
   ]
  },
  {
   "cell_type": "code",
   "execution_count": 7,
   "metadata": {
    "collapsed": false
   },
   "outputs": [
    {
     "name": "stdout",
     "output_type": "stream",
     "text": [
      "Trying to run improperly formatted function...\n",
      "  SymbolicFormatError: You did not return a 2-tuple of outputs, updates.  You returned Elemwise{mul,no_inplace}.0\n",
      "Lets try again with the correct format....\n",
      "  [3*2] = [array(6)]\n"
     ]
    }
   ],
   "source": [
    "from plato.core import symbolic_standard, SymbolicFormatError\n",
    "\n",
    "@symbolic_standard\n",
    "def multiply_by_two(x):\n",
    "    y = 2*x\n",
    "    return y  # Bad! We decorated with \"standard\" but did not return the standard format of (outputs, updates)\n",
    "\n",
    "f = multiply_by_two.compile()\n",
    "\n",
    "print 'Trying to run improperly formatted function...'\n",
    "try: \n",
    "    f(3)\n",
    "except SymbolicFormatError as err:\n",
    "    print '  %s: %s' % (err.__class__.__name__, err.message)\n",
    "\n",
    "print 'Lets try again with the correct format....'\n",
    "\n",
    "@symbolic_standard\n",
    "def multiply_by_two_in_correct_format(x):\n",
    "    y = 2*x\n",
    "    return (y, ), []  # !!! Correct format.\n",
    "\n",
    "f_again = multiply_by_two_in_correct_format.compile()\n",
    "\n",
    "print '  [3*2] = %s' % (f_again(3), )"
   ]
  },
  {
   "cell_type": "markdown",
   "metadata": {},
   "source": [
    "## 6. Converting Formats\n",
    "\n",
    "In the previous example, we saw that the `multiply_by_two` function was much cleaner than the `multiply_by_two_in_correct_format` function.  But if were to pass this function into some generic code that wants to treat functions interchangeably, we needed to implement it in the correct format.  To overcome this impracticality of forcing users to either implement functions in a messy way, or wrap them, symbolic functions have a **to_format** method to do format-conversion.  \n",
    "\n",
    "As an example, lets imaging you're making a generic \"Chain\" function.  Chain's job is to compose a list of (possible stateful) functions into a chain: $f_c = f_1 \\circ f_2 \\circ ... f_n$\n",
    "\n",
    "In our example, we'll have two functions - Multiply by two, and a cumulative sum.\n",
    "\n",
    "Note a few things here:  \n",
    "- We don't know, when creating Chain, what formats the inner funtions will have (will they return updates, will they return a tuple of outputs or just a single one)\n",
    "- We therefore don't know what format the output of Chain should take (should it return just one output or a tuple, should it return updates, etc)\n",
    "\n",
    "The below example shows how we can use the **to_format** method to convert a symbolic function defined in one format to another."
   ]
  },
  {
   "cell_type": "code",
   "execution_count": 23,
   "metadata": {
    "collapsed": false
   },
   "outputs": [
    {
     "name": "stdout",
     "output_type": "stream",
     "text": [
      "sum([0..0]*2) = [array(0)] \n",
      "sum([0..1]*2) = [array(2)] \n",
      "sum([0..2]*2) = [array(6)] \n",
      "sum([0..3]*2) = [array(12)] \n",
      "sum([0..4]*2) = [array(20)] \n",
      "sum([0..5]*2) = [array(30)] \n",
      "sum([0..6]*2) = [array(42)] \n",
      "sum([0..7]*2) = [array(56)] \n",
      "sum([0..8]*2) = [array(72)] \n",
      "sum([0..9]*2) = [array(90)] \n"
     ]
    }
   ],
   "source": [
    "from plato.core import symbolic, symbolic_standard, symbolic_stateless\n",
    "import theano\n",
    "import numpy as np\n",
    "\n",
    "@symbolic_standard\n",
    "class Chain:\n",
    "    \n",
    "    def __init__(self, *functions):\n",
    "        self.functions = functions\n",
    "        \n",
    "    def __call__(self, *args):\n",
    "        updates = []\n",
    "        for f in self.functions:\n",
    "            # Note how we convert to the standard format to get results in the (outputs, updates) format.\n",
    "            args, new_updates = f.to_format(symbolic_standard)(*args)  # \"*\" is python syntax for unpacking a tuple as arguments.\n",
    "            updates += new_updates\n",
    "        return args, updates\n",
    "\n",
    "@symbolic_stateless\n",
    "def multiply_by_two(x):\n",
    "    return x*2\n",
    "\n",
    "@symbolic\n",
    "def running_sum(x):\n",
    "    z = theano.shared(0)\n",
    "    new_z = z+x\n",
    "    return new_z, [(z, new_z)]\n",
    "\n",
    "f = Chain(multiply_by_two, running_sum).compile()\n",
    "\n",
    "for i in xrange(10):\n",
    "    print 'sum([0..%s]*2) = %s ' % (i, f(i))\n"
   ]
  },
  {
   "cell_type": "markdown",
   "metadata": {},
   "source": [
    "## 7. Fixed Arguments\n",
    "\n",
    "When you use a numpy array on a theano symbolic function, it treats it as a constant.  We can use the **fixed_args** argument to **compile()** to partially-specify a function.  For example:\n"
   ]
  },
  {
   "cell_type": "code",
   "execution_count": 27,
   "metadata": {
    "collapsed": false
   },
   "outputs": [
    {
     "name": "stdout",
     "output_type": "stream",
     "text": [
      "2*3 = 6\n",
      "5*3 = 15\n"
     ]
    }
   ],
   "source": [
    "from plato.core import symbolic\n",
    "\n",
    "@symbolic\n",
    "def multiply(x, y):\n",
    "    return x*y\n",
    "\n",
    "f_mult_by_3 = multiply.compile(fixed_args = dict(y=3))\n",
    "\n",
    "print '2*3 = %s' % f_mult_by_3(2)\n",
    "print '5*3 = %s' % f_mult_by_3(5)\n"
   ]
  },
  {
   "cell_type": "code",
   "execution_count": null,
   "metadata": {
    "collapsed": true
   },
   "outputs": [],
   "source": []
  }
 ],
 "metadata": {
  "kernelspec": {
   "display_name": "Python 2",
   "language": "python",
   "name": "python2"
  }
 },
 "nbformat": 4,
 "nbformat_minor": 0
}
