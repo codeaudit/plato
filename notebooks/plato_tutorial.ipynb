{
 "cells": [
  {
   "cell_type": "markdown",
   "metadata": {},
   "source": [
    "# Plato Tutorial\n",
    "\n",
    "Plato is a python package built on top of [Theano](http://deeplearning.net/software/theano/) with two objectives:  \n",
    "1) Simplify the use of Theano.  \n",
    "2) Build a good libary of standard Deep Learning algorithms.\n",
    "\n",
    "This tutorial takes you throught the Plato API.  It's useful but not necessary to have a basic knowledge of Theano to do this tutorial."
   ]
  },
  {
   "cell_type": "markdown",
   "metadata": {},
   "source": [
    "## 1. Symbolic functions.\n",
    "\n",
    "In Plato, we have the concept of *symbolic functions*, which are function that take and return theano symbolic variables.  These functions can be compiled to *numeric functions* which take and return numpy arrays and python ints/floats."
   ]
  },
  {
   "cell_type": "code",
   "execution_count": 3,
   "metadata": {
    "collapsed": false
   },
   "outputs": [
    {
     "name": "stdout",
     "output_type": "stream",
     "text": [
      "3+4=7\n"
     ]
    }
   ],
   "source": [
    "from plato.core import symbolic\n",
    "\n",
    "@symbolic\n",
    "def add_two_numbers(x, y):\n",
    "    return x+y\n",
    "\n",
    "f = add_two_numbers.compile()\n",
    "print '3+4=%s' % f(3, 4)"
   ]
  },
  {
   "cell_type": "markdown",
   "metadata": {},
   "source": [
    "Internally, here is what happens: On the first (and in this case, only) call to add_two_numbers, Plato inspects the inputs (3, 4), looks at their type (both scalar integers in this case), and gets Theano to compile a symbolic expression that adds them together.  The equivalent code using just theano would be:"
   ]
  },
  {
   "cell_type": "code",
   "execution_count": 2,
   "metadata": {
    "collapsed": false
   },
   "outputs": [
    {
     "name": "stdout",
     "output_type": "stream",
     "text": [
      "3+4=7\n"
     ]
    }
   ],
   "source": [
    "import theano\n",
    "from theano.tensor import scalar\n",
    "\n",
    "x = scalar(dtype = 'int32')\n",
    "y = scalar(dtype = 'int32')\n",
    "z = x+y\n",
    "\n",
    "f = theano.function(inputs = [x, y], outputs = z)\n",
    "print '3+4=%s' % f(3, 4)\n"
   ]
  },
  {
   "cell_type": "markdown",
   "metadata": {},
   "source": [
    "Thus the first advantage of Plato is that it removes the need to create input variables and make sure their type matches the data that you're going to feed in."
   ]
  },
  {
   "cell_type": "markdown",
   "metadata": {},
   "source": [
    "## 2. Adding State\n",
    "\n",
    "We are also able to create stateful functions.  Unlike Theano, we do not pass state-updates in the return value.  Instead, we call the function `add_update(shared_var, new_value)`.  The following example shows how to make a \"function\" with some internal state that updates on each call."
   ]
  },
  {
   "cell_type": "code",
   "execution_count": 14,
   "metadata": {
    "collapsed": false
   },
   "outputs": [
    {
     "name": "stdout",
     "output_type": "stream",
     "text": [
      "I can count to ten.  See: [1, 2, 3, 4, 5, 6, 7, 8, 9, 10]\n",
      "I can too: [1, 2, 3, 4, 5, 6, 7, 8, 9, 10]\n"
     ]
    }
   ],
   "source": [
    "import theano\n",
    "from plato.core import symbolic, add_update\n",
    "\n",
    "@symbolic\n",
    "def counter():\n",
    "    count = theano.shared(0)  # Create a shared variable, initialized at zero, which stores the count.\n",
    "    new_count = count+1\n",
    "    add_update(count, new_count)\n",
    "    return new_count\n",
    "\n",
    "f = counter.compile()\n",
    "print 'I can count to ten.  See: %s' % ([int(f()) for _ in xrange(10)])\n",
    "\n",
    "f2 = counter.compile()\n",
    "print 'I can too: %s' % ([int(f2()) for _ in xrange(10)])\n",
    "# Note that we start from scratch when we compile the function a new time, \n",
    "# because the shared variable is initialized within the function call.  If we\n",
    "# had declaired counter outside the function, the second count would run from \n",
    "# 11 to 20."
   ]
  },
  {
   "cell_type": "markdown",
   "metadata": {},
   "source": [
    "## 3. Classes: Multiple functions sharing a variable.\n",
    "\n",
    "We often have situations where we have a variable that is shared between two functions (e.g. in a classifier, the weights may be modified by the *train* function and used by the *predict* function).  We usually deal with this using classes.  As a simple example, lets take the [Collatz Conjecture](https://en.wikipedia.org/wiki/Collatz_conjecture).  "
   ]
  },
  {
   "cell_type": "code",
   "execution_count": 15,
   "metadata": {
    "collapsed": false
   },
   "outputs": [
    {
     "name": "stdout",
     "output_type": "stream",
     "text": [
      "Demonstrate Collatz conjecture for initial value of 20\n",
      "10\n",
      "5\n",
      "16\n",
      "8\n",
      "4\n",
      "2\n",
      "1\n",
      "Note that since the value is attached to the class, it persists if functons are recompiled.\n",
      "4\n",
      "2\n",
      "1\n",
      "4\n",
      "2\n",
      "1\n"
     ]
    }
   ],
   "source": [
    "from plato.core import symbolic, add_update\n",
    "import theano\n",
    "\n",
    "class Collatz:\n",
    "\n",
    "    def __init__(self, initial_value):\n",
    "        self.value = theano.shared(initial_value)\n",
    "        \n",
    "    @symbolic\n",
    "    def divide_by_2(self):\n",
    "        new_value = self.value/2\n",
    "        add_update(self.value, new_value)\n",
    "        return new_value\n",
    "    \n",
    "    @symbolic\n",
    "    def multiply_by_3_and_add_one(self):\n",
    "        new_value = self.value*3+1\n",
    "        add_update(self.value, new_value)\n",
    "        return new_value\n",
    "    \n",
    "c = Collatz(20)\n",
    "div_fcn = c.divide_by_2.compile()\n",
    "mul_fcn = c.multiply_by_3_and_add_one.compile()\n",
    "\n",
    "value = c.value.get_value()\n",
    "print 'Demonstrate Collatz conjecture for initial value of %s' % c.value.get_value()\n",
    "\n",
    "while value != 1:\n",
    "    value = div_fcn() if value % 2 == 0 else mul_fcn()\n",
    "    print value\n",
    "\n",
    "print 'Note that since the value is attached to the object, it persists if functons are recompiled.'\n",
    "new_div_fcn = c.divide_by_2.compile()\n",
    "new_mul_fcn = c.multiply_by_3_and_add_one.compile()\n",
    "for _ in xrange(6):\n",
    "    value = new_div_fcn() if value % 2 == 0 else new_mul_fcn()\n",
    "    print value"
   ]
  },
  {
   "cell_type": "markdown",
   "metadata": {},
   "source": [
    "## 4. Callable Classes\n",
    "\n",
    "In python, classes can also act as functions, if they implement a `__call__` method.  This can be useful when you want to make parameterized functions.  Therefore Plato also allows you to decorate callable classes.  For example:"
   ]
  },
  {
   "cell_type": "code",
   "execution_count": 9,
   "metadata": {
    "collapsed": false
   },
   "outputs": [
    {
     "name": "stdout",
     "output_type": "stream",
     "text": [
      "3*4=12\n"
     ]
    }
   ],
   "source": [
    "from plato.core import symbolic\n",
    "\n",
    "@symbolic\n",
    "class MultiplyBySomething:\n",
    "    \n",
    "    def __init__(self, what):\n",
    "        self.what = what\n",
    "        \n",
    "    def __call__(self, x):\n",
    "        return x*self.what\n",
    "    \n",
    "f = MultiplyBySomething(3).compile()\n",
    "\n",
    "print '3*4=%s' % f(4)"
   ]
  },
  {
   "cell_type": "markdown",
   "metadata": {},
   "source": [
    "## 5. Named Arguments\n",
    "\n",
    "Unlike Theano, Plato allows you to pass inputs into compiled functions by name.  The only requirement is that you are consistent with their usage (if you call the function as `f(3, y=4)` the first, time, you cannot call it as `f(3, 4)` the next time, otherwise you will get an error.  See the following example:"
   ]
  },
  {
   "cell_type": "code",
   "execution_count": 8,
   "metadata": {
    "collapsed": false
   },
   "outputs": [
    {
     "name": "stdout",
     "output_type": "stream",
     "text": [
      "(2+4)/3 = 2\n",
      "(1+3)/2 = 2\n",
      "Lets try again, but leave x as an unnamed arg...\n",
      "You were inconsistent - referenced x as a kwarg in the first call but not the second.\n"
     ]
    }
   ],
   "source": [
    "from plato.core import symbolic\n",
    "\n",
    "@symbolic\n",
    "def add_and_div(x, y, z):\n",
    "    return (x+y)/z\n",
    "\n",
    "f = add_and_div.compile()\n",
    "print '(2+4)/3 = %s' % f(x=4, y=2, z=3)\n",
    "print '(1+3)/2 = %s' % f(z=2, y=3, x=1)\n",
    "\n",
    "try:\n",
    "    print 'Lets try again, but leave x as an unnamed arg...'\n",
    "    f(2, y=4, z=3.)\n",
    "except KeyError as e:\n",
    "    print 'You were inconsistent - referenced x as a kwarg in the first call but not the second.'\n"
   ]
  },
  {
   "cell_type": "markdown",
   "metadata": {},
   "source": [
    "## 6. Debugging\n",
    "\n",
    "A big advantage of Plato is easier debugging.  There are two ways in which Plato helps you debug.\n",
    "\n",
    "### 6A: Testing Initial Values\n",
    "\n",
    "Theano allows you to add \"test-values\" to your symbolic variables ([see tutorial](http://deeplearning.net/software/theano/tutorial/debug_faq.html)).  This helps to catch shape-errors at compile-time instead of run-time, where it is difficult to find the line of code that caused them.  However, it can be a bit of extra work for the programmer, because they have to manually attach test values to their variables.  Fortunately, since Plato compiles your functions on the first pass, it can attach test-values \"under the hood\".\n",
    "\n",
    "For example, lets look at a matrix multiplication, where we accidently get the shapes of our matrices wrong.  Since all inputs are given test values, we can easily track down the error - the traceback will lead back to the correct line.  This would not have been possible without test values, because the error would occur in the compiled code, which is no-longer linked to the source code.\n",
    "\n",
    "Plato attaches the following properties to all symbolic variables:  \n",
    "**var.ival** - The initial value of the variable (a numpy array or scalar)  \n",
    "**var.ishape** - The initial shape of the variable  \n",
    "**var.indim** - The initial number of dimensions of the variable  \n",
    "**var.idtype** - The initial dtype of the variable  "
   ]
  },
  {
   "cell_type": "code",
   "execution_count": 9,
   "metadata": {
    "collapsed": false
   },
   "outputs": [
    {
     "name": "stdout",
     "output_type": "stream",
     "text": [
      "x-shape: (5, 4)\n",
      "w-shape: (3, 4)\n",
      "ValueError: shapes (5,4) and (3,4) not aligned: 4 (dim 1) != 3 (dim 0)\n"
     ]
    }
   ],
   "source": [
    "import numpy as np\n",
    "from plato.core import symbolic\n",
    "\n",
    "@symbolic\n",
    "def forward_pass(x, w):\n",
    "    print 'x-shape: %s' % (x.ishape, )\n",
    "    print 'w-shape: %s' % (w.ishape, )\n",
    "    # Note that the above test-values only display on the first iteration.\n",
    "    return x.dot(w)\n",
    "\n",
    "f = forward_pass.compile()\n",
    "\n",
    "try:\n",
    "    # The following will cause an error (because second argument should have shape (4, 3))\n",
    "    h = f(np.random.randn(5, 4), np.random.rand(3, 4))  \n",
    "except ValueError as err:\n",
    "    # If you do not catch the error, you get a stacktrace which points to the line at fault.\n",
    "    print '%s: %s' % (err.__class__.__name__, err.message)\n"
   ]
  },
  {
   "cell_type": "markdown",
   "metadata": {},
   "source": [
    "### 6B: Variable Traces\n",
    "\n",
    "It can also be useful to print/plot traces of intermediate values.  Ordinarily in theano, this would require setting those variables as outputs, and restructuring code to peek at what would normally be an internal variables.  Plato does a bit of magic which allows you to print/plot/do anything with internal variables.  The following example illustrates this: "
   ]
  },
  {
   "cell_type": "code",
   "execution_count": 12,
   "metadata": {
    "collapsed": false
   },
   "outputs": [
    {
     "name": "stdout",
     "output_type": "stream",
     "text": [
      "Pre-Sigmoid Activation: [[-1.98408463 -1.76282479 -0.88996526]]\n",
      "Post Sigmoid Activation: [[ 0.12088409  0.14643691  0.291117  ]]\n",
      "Pre-Sigmoid Activation: [[ 1.02926441 -1.8340707  -1.52472555]]\n",
      "Post Sigmoid Activation: [[ 0.73677326  0.13775405  0.17876671]]\n",
      "Pre-Sigmoid Activation: [[-3.41581461 -3.99078591  1.1415132 ]]\n",
      "Post Sigmoid Activation: [[ 0.03180486  0.01814968  0.75795736]]\n"
     ]
    }
   ],
   "source": [
    "import numpy as np\n",
    "from plato.core import symbolic, tdbprint\n",
    "import theano.tensor as tt\n",
    "import theano\n",
    "\n",
    "class Layer:\n",
    "    \n",
    "    def __init__(self, w):\n",
    "        self.w = theano.shared(w)\n",
    "        \n",
    "    @symbolic\n",
    "    def forward_pass(self, x):\n",
    "        pre_sigmoid = x.dot(self.w)\n",
    "        tdbprint(pre_sigmoid, name = 'Pre-Sigmoid Activation')\n",
    "        y = tt.nnet.sigmoid(pre_sigmoid)\n",
    "        return y\n",
    "    \n",
    "n_samples = 1\n",
    "n_in = 4\n",
    "n_out = 3\n",
    "    \n",
    "layer = Layer(np.random.randn(n_in, n_out))\n",
    "fwd_fcn = layer.forward_pass.compile()\n",
    "for _ in xrange(3):\n",
    "    y = fwd_fcn(np.random.randn(n_samples, n_in))\n",
    "    print 'Post Sigmoid Activation: %s' % (y)"
   ]
  },
  {
   "cell_type": "markdown",
   "metadata": {},
   "source": [
    "You can also plot internal variables using the function `tdbplot` in `plato.tools.tdb_plotting`, but this tutorial does not cover it."
   ]
  },
  {
   "cell_type": "markdown",
   "metadata": {},
   "source": [
    "## 7. Enforcing Interfaces\n",
    "\n",
    "In larger programs, it can be useful to enforce interfaces - that is, functions are required to obey a certain contract.  This allows function A to use function B without knowing in particular which function it is.  For instance, you may have some code that iterates through a dataset and trains a predictor, but doesn't necessarily know what kind of predictor it is - just that it has a *train* function that accepts inputs and targets, and returns updates.\n",
    "\n",
    "For this reason, we have an extended set of decorators which enforce type-checking on inputs, outputs, and updates.  \n",
    "\n",
    "`@symbolic` - No format requirements.\n",
    "`@symbolic_simple` - Returns a single output variable.  \n",
    "`@symbolic_multi` - Returns a tuple of output tensors.  \n",
    "`@symbolic_stateless` - Makes no state updates.\n",
    "`@symbolic_updater` - Returns nothing and produces at least one state update.  \n",
    "\n",
    "Functions decorated with one of the above decorators throw a `SymbolicFormatError` when the function does not obey the contract specified by its decorator.\n",
    "\n",
    "For example:"
   ]
  },
  {
   "cell_type": "code",
   "execution_count": 22,
   "metadata": {
    "collapsed": false
   },
   "outputs": [
    {
     "name": "stdout",
     "output_type": "stream",
     "text": [
      "Trying to run incorrectly-decorated function...\n",
      "  SymbolicFormatError: Function <function running_sum at 0x10d957aa0> should have created no state updates, but it created updates: [(<TensorType(int64, scalar)>, Elemwise{add,no_inplace}.0)]\n",
      "Lets try again with the correct format....\n",
      "  cumsum([1,2,3,4]) = [1, 3, 6, 10]\n"
     ]
    }
   ],
   "source": [
    "from plato.core import symbolic_stateless, symbolic, SymbolicFormatError, add_update\n",
    "\n",
    "@symbolic_stateless # Bad! We decorated with \"symbolic_stateless\" but we make a state update inside\n",
    "def running_sum(x):\n",
    "    shared_var = theano.shared(0)\n",
    "    y = x + shared_var\n",
    "    add_update(shared_var, y) \n",
    "    return y \n",
    "\n",
    "f = running_sum.compile()\n",
    "print 'Trying to run incorrectly-decorated function...'\n",
    "try: \n",
    "    f(3)\n",
    "except SymbolicFormatError as err:\n",
    "    print '  %s: %s' % (err.__class__.__name__, err.message)\n",
    "\n",
    "print 'Lets try again with the correct format....'\n",
    "\n",
    "@symbolic\n",
    "def running_sum(x):\n",
    "    shared_var = theano.shared(0)\n",
    "    y = x + shared_var\n",
    "    add_update(shared_var, y) \n",
    "    return y \n",
    "\n",
    "f = running_sum.compile()\n",
    "\n",
    "print '  cumsum([1,2,3,4]) = %s' % ([int(f(i)) for i in xrange(1, 5)], )"
   ]
  },
  {
   "cell_type": "markdown",
   "metadata": {},
   "source": [
    "## 8. Fixed Arguments\n",
    "\n",
    "When you use a numpy array on a theano symbolic function, it treats it as a constant.  We can use the **fixed_args** argument to **compile()** to partially-specify a function.  Theano will then compile the function with these arguments as fixed constants.  For example:\n"
   ]
  },
  {
   "cell_type": "code",
   "execution_count": 23,
   "metadata": {
    "collapsed": false
   },
   "outputs": [
    {
     "name": "stdout",
     "output_type": "stream",
     "text": [
      "3*2 = 6\n",
      "3*5 = 15\n"
     ]
    }
   ],
   "source": [
    "from plato.core import symbolic\n",
    "\n",
    "@symbolic\n",
    "def multiply(x, y):\n",
    "    return x*y\n",
    "\n",
    "f_mult_by_3 = multiply.compile(fixed_args = dict(x=3))\n",
    "\n",
    "print '3*2 = %s' % f_mult_by_3(y=2)\n",
    "print '3*5 = %s' % f_mult_by_3(y=5)\n"
   ]
  },
  {
   "cell_type": "markdown",
   "metadata": {},
   "source": [
    "## 9. Done.\n",
    "\n",
    "Congratulations, you made it through the Plato tutorial."
   ]
  },
  {
   "cell_type": "code",
   "execution_count": null,
   "metadata": {
    "collapsed": true
   },
   "outputs": [],
   "source": []
  }
 ],
 "metadata": {
  "kernelspec": {
   "display_name": "Python 2",
   "language": "python",
   "name": "python2"
  },
  "language_info": {
   "codemirror_mode": {
    "name": "ipython",
    "version": 2
   },
   "file_extension": ".py",
   "mimetype": "text/x-python",
   "name": "python",
   "nbconvert_exporter": "python",
   "pygments_lexer": "ipython2",
   "version": "2.7.6"
  }
 },
 "nbformat": 4,
 "nbformat_minor": 0
}
